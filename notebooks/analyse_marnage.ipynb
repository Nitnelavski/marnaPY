{
 "cells": [
  {
   "cell_type": "markdown",
   "id": "b522d1cf",
   "metadata": {},
   "source": [
    "# Analyse des marnages de réservoirs EPANET\n",
    "\n",
    "Un notebook réalisé par [@Valentin Mounier](https://github.com/valmoun \"Github de l'auteur\") pour calculer les marnages min et max de réservoirs d'un réseau EPANET."
   ]
  },
  {
   "cell_type": "markdown",
   "id": "4d6560b2",
   "metadata": {},
   "source": [
    "## Importations"
   ]
  },
  {
   "cell_type": "markdown",
   "id": "d4577319",
   "metadata": {},
   "source": [
    "### Modèle EPANET"
   ]
  },
  {
   "cell_type": "code",
   "execution_count": 1,
   "id": "ae82a5dc-9f23-4456-8a83-57068389b152",
   "metadata": {},
   "outputs": [
    {
     "name": "stdout",
     "output_type": "stream",
     "text": [
      "\tEpanet version is: 2.2 (from owa-epanet 2.2.4)\n"
     ]
    }
   ],
   "source": [
    "# Importations EPANET\n",
    "import ganessa.en2emu as sim_et\n",
    "from ganessa.en2emu import *"
   ]
  },
  {
   "cell_type": "markdown",
   "id": "2ba025ef",
   "metadata": {},
   "source": [
    "### Interface graphique"
   ]
  },
  {
   "cell_type": "code",
   "execution_count": 2,
   "id": "5272c650",
   "metadata": {},
   "outputs": [],
   "source": [
    "# Importations de l'interface utilisateur\n",
    "import os\n",
    "from ipywidgets import Text\n",
    "from IPython.display import display"
   ]
  },
  {
   "cell_type": "markdown",
   "id": "58fbed86",
   "metadata": {},
   "source": [
    "## Paramétrage simulation EPANET"
   ]
  },
  {
   "cell_type": "markdown",
   "id": "085a90cd",
   "metadata": {},
   "source": [
    "### Sélection modèle"
   ]
  },
  {
   "cell_type": "code",
   "execution_count": 3,
   "id": "c3874442",
   "metadata": {},
   "outputs": [
    {
     "data": {
      "application/vnd.jupyter.widget-view+json": {
       "model_id": "08aafa3940bd44818cc05e49f429362e",
       "version_major": 2,
       "version_minor": 0
      },
      "text/plain": [
       "Text(value='../data/modele.inp', continuous_update=False, description='Fichier .inp :', placeholder='Entrer le…"
      ]
     },
     "metadata": {},
     "output_type": "display_data"
    }
   ],
   "source": [
    "# Widget de saisie\n",
    "text_chooser = Text(\n",
    "    value='../data/modele.inp',\n",
    "    placeholder='Entrer le chemin complet du fichier .inp',\n",
    "    description='Fichier .inp :',\n",
    "    disabled=False,\n",
    "    continuous_update=False\n",
    ")\n",
    "\n",
    "# Affichage du widget\n",
    "display(text_chooser)"
   ]
  },
  {
   "cell_type": "markdown",
   "id": "fd51764f",
   "metadata": {},
   "source": [
    "### Paramètres de la simulation"
   ]
  },
  {
   "cell_type": "code",
   "execution_count": 4,
   "id": "0dbc5256",
   "metadata": {},
   "outputs": [
    {
     "data": {
      "application/vnd.jupyter.widget-view+json": {
       "model_id": "471beda0fc0e4d95baecd74b1085d2b6",
       "version_major": 2,
       "version_minor": 0
      },
      "text/plain": [
       "Text(value='24', continuous_update=False, description='Durée (h) :', placeholder='Entrer la durée de simulatio…"
      ]
     },
     "metadata": {},
     "output_type": "display_data"
    }
   ],
   "source": [
    "# Widget de saisie de la durée de simulation\n",
    "text_duration = Text(\n",
    "    value='24',\n",
    "    placeholder='Entrer la durée de simulation',\n",
    "    description='Durée (h) :',\n",
    "    disabled=False,\n",
    "    continuous_update=False\n",
    ")\n",
    "\n",
    "# Affichage du widget\n",
    "display(text_duration)"
   ]
  },
  {
   "cell_type": "markdown",
   "id": "5b087f35",
   "metadata": {},
   "source": [
    "### Vérifications inputs utilisateur"
   ]
  },
  {
   "cell_type": "code",
   "execution_count": 5,
   "id": "16629692",
   "metadata": {},
   "outputs": [
    {
     "name": "stdout",
     "output_type": "stream",
     "text": [
      "Le fichier ../data/modele.inp existe.\n",
      "Le fichier ../data/modele.inp est un fichier .inp valide.\n",
      "Durée de simulation valide : 24 heures\n"
     ]
    }
   ],
   "source": [
    "# Stockage des inputs dans des variables\n",
    "model_file = text_chooser.value\n",
    "duration = int(text_duration.value)\n",
    "\n",
    "# Créer les fichiers de sortie .rpt et .out\n",
    "rpt_file = model_file.replace('.inp', '.rpt')\n",
    "out_file = model_file.replace('.inp', '.out')\n",
    "\n",
    "# Vérification de l'existence et de la validité du fichier .inp\n",
    "if os.path.isfile(model_file):\n",
    "    print(f\"Le fichier {model_file} existe.\")\n",
    "    # Vérification de l'extension .inp\n",
    "    if model_file.endswith('.inp'):\n",
    "        print(f\"Le fichier {model_file} est un fichier .inp valide.\")\n",
    "    else:\n",
    "        print(f\"Le fichier {model_file} n'est pas un fichier .inp valide.\")\n",
    "else:\n",
    "    print(f\"Le fichier {model_file} n'existe pas.\")\n",
    "\n",
    "# Vérification durée de simulation\n",
    "if duration <= 0:\n",
    "    print(f\"Durée de simulation invalide : {duration} heures\")\n",
    "else:\n",
    "    print(f\"Durée de simulation valide : {duration} heures\")"
   ]
  },
  {
   "cell_type": "markdown",
   "id": "75f52504",
   "metadata": {},
   "source": [
    "## Initialisation du modèle EPANET"
   ]
  },
  {
   "cell_type": "code",
   "execution_count": 6,
   "id": "c53138af",
   "metadata": {},
   "outputs": [
    {
     "name": "stdout",
     "output_type": "stream",
     "text": [
      "Default epanet project created: 0x1b4366a1890\n",
      "Model initialized successfully.\n"
     ]
    }
   ],
   "source": [
    "# Initialisation du modèle EPANET\n",
    "try:\n",
    "    model = ENmodel(model_file, None)\n",
    "    print(\"Model initialized successfully.\")\n",
    "except Exception as e:\n",
    "    print(f\"Error initializing model: {e}\")"
   ]
  },
  {
   "cell_type": "markdown",
   "id": "5e43e461",
   "metadata": {},
   "source": [
    "### Récupération des ID de réservoirs"
   ]
  },
  {
   "cell_type": "code",
   "execution_count": 7,
   "id": "8b49e115",
   "metadata": {},
   "outputs": [
    {
     "name": "stdout",
     "output_type": "stream",
     "text": [
      "Retrieving tank IDs...\n",
      "Tank IDs retrieved successfully.\n",
      "Tank ID: 26\n"
     ]
    }
   ],
   "source": [
    "# Récupération de la liste des tanks\n",
    "try:\n",
    "    print(\"Retrieving tank IDs...\")\n",
    "    model.update_indexes()  # Update tank and pipe indices\n",
    "    tank_ids = [et.ENgetnodeid(ix) for ix in model.tank_index]  # Get tank IDs\n",
    "    print(\"Tank IDs retrieved successfully.\")\n",
    "    \n",
    "    # Display tank IDs\n",
    "    for tank_id in tank_ids:\n",
    "        print(f\"Tank ID: {tank_id}\")\n",
    "        \n",
    "except Exception as e:\n",
    "    print(f\"Error during tank ID retrieval: {e}\")"
   ]
  },
  {
   "cell_type": "markdown",
   "id": "dcdb9af8",
   "metadata": {},
   "source": [
    "## Lancement de la simulation"
   ]
  },
  {
   "cell_type": "code",
   "execution_count": 8,
   "id": "02638289",
   "metadata": {},
   "outputs": [
    {
     "name": "stdout",
     "output_type": "stream",
     "text": [
      "Extracting tank pressures...\n",
      "Model has 40 links and 36 nodes.\n",
      "Running simulation over 198000 s and collecting results\n",
      " links=0 nodes=1 tanks=1\n",
      "\t  0% - t= 0\n",
      "\t 10% - t= 21600\n",
      "\t 20% - t= 39600\n",
      "\t 30% - t= 61200\n",
      "\t 40% - t= 79200\n",
      "\t 50% - t= 100800\n",
      "\t 60% - t= 118800\n",
      "\t 70% - t= 140400\n",
      "\t 80% - t= 158400\n",
      "\t 90% - t= 180000\n",
      "\t100% - t= 198000\n",
      "Tank pressure extraction complete.\n"
     ]
    }
   ],
   "source": [
    "# Extraction des pressions\n",
    "print(\"Extracting tank pressures...\")\n",
    "try:\n",
    "    _, _, pressures, _ = model.runH_results_part([], tank_ids, tank_ids)\n",
    "    tanks = {tank_id: pressures[tank_id] for tank_id in tank_ids}\n",
    "    print(\"Tank pressure extraction complete.\")\n",
    "except Exception as e:\n",
    "    print(f\"Error during pressure extraction: {e}\")"
   ]
  },
  {
   "cell_type": "markdown",
   "id": "5060b201",
   "metadata": {},
   "source": [
    "## Calculs des marnages des réservoirs sur 24h"
   ]
  },
  {
   "cell_type": "code",
   "execution_count": 9,
   "id": "e9e03d2a",
   "metadata": {},
   "outputs": [],
   "source": [
    "# Calcul des marnages\n",
    "stats = {}\n",
    "for tank_id, pressures in tanks.items():\n",
    "    if pressures:\n",
    "        stats[tank_id] = {\n",
    "            \"max_pressure\": max(pressures),\n",
    "            \"min_pressure\": min(pressures),\n",
    "        }\n",
    "    else:\n",
    "        stats[tank_id] = {\n",
    "            \"max_pressure\": None,\n",
    "            \"min_pressure\": None,\n",
    "        }"
   ]
  },
  {
   "cell_type": "markdown",
   "id": "2167ed50",
   "metadata": {},
   "source": [
    "# Affichage des stats finales"
   ]
  },
  {
   "cell_type": "code",
   "execution_count": 10,
   "id": "21ba3642",
   "metadata": {},
   "outputs": [
    {
     "name": "stdout",
     "output_type": "stream",
     "text": [
      "\n",
      "=== Tank Pressure Statistics ===\n",
      "Tank 26: Max = 19.841366117285673, Min = 17.1229377503588\n",
      "\n",
      "Analysis saved to ../data\\analysis.txt\n",
      "Default project 0x1b4366a1890 is being deleted\n",
      "Deleted report file: ../data/modele.rpt\n"
     ]
    }
   ],
   "source": [
    "print(\"\\n=== Tank Pressure Statistics ===\")\n",
    "\n",
    "# Affichage des statistiques\n",
    "analysis_file_path = os.path.join(os.path.dirname(model_file), \"analysis.txt\")\n",
    "with open(analysis_file_path, \"w\") as analysis_file:\n",
    "    for tank_id, stat in stats.items():\n",
    "        line = f\"Tank {tank_id}: Max = {stat['max_pressure']}, Min = {stat['min_pressure']}\\n\"\n",
    "        print(line.strip())\n",
    "        analysis_file.write(line)\n",
    "\n",
    "print(f\"\\nAnalysis saved to {analysis_file_path}\")\n",
    "\n",
    "# Fermeture du modèle\n",
    "if 'model' in locals() and model:\n",
    "    model.close()\n",
    "\n",
    "# Suppression du fichier rapport .rpt\n",
    "if os.path.isfile(rpt_file):\n",
    "    os.remove(rpt_file)\n",
    "    print(f\"Deleted report file: {rpt_file}\")"
   ]
  }
 ],
 "metadata": {
  "kernelspec": {
   "display_name": "Python 3",
   "language": "python",
   "name": "python3"
  },
  "language_info": {
   "codemirror_mode": {
    "name": "ipython",
    "version": 3
   },
   "file_extension": ".py",
   "mimetype": "text/x-python",
   "name": "python",
   "nbconvert_exporter": "python",
   "pygments_lexer": "ipython3",
   "version": "3.12.7"
  }
 },
 "nbformat": 4,
 "nbformat_minor": 5
}
