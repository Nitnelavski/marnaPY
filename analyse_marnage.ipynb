{
 "cells": [
  {
   "cell_type": "markdown",
   "id": "b522d1cf",
   "metadata": {},
   "source": [
    "# Analyse des marnages de réservoirs EPANET"
   ]
  },
  {
   "cell_type": "markdown",
   "id": "4d6560b2",
   "metadata": {},
   "source": [
    "## Importations"
   ]
  },
  {
   "cell_type": "markdown",
   "id": "d4577319",
   "metadata": {},
   "source": [
    "### Modèle EPANET"
   ]
  },
  {
   "cell_type": "code",
   "execution_count": 1,
   "id": "ae82a5dc-9f23-4456-8a83-57068389b152",
   "metadata": {},
   "outputs": [
    {
     "name": "stdout",
     "output_type": "stream",
     "text": [
      "\tEpanet version is: 2.2 (from owa-epanet 2.2.4)\n"
     ]
    }
   ],
   "source": [
    "# Importations EPANET\n",
    "import ganessa.en2emu as sim_et\n",
    "from ganessa.en2emu import *\n",
    "ET = sim_et.et"
   ]
  },
  {
   "cell_type": "markdown",
   "id": "2ba025ef",
   "metadata": {},
   "source": [
    "### Interface graphique"
   ]
  },
  {
   "cell_type": "code",
   "execution_count": 2,
   "id": "5272c650",
   "metadata": {},
   "outputs": [],
   "source": [
    "# Importations de l'interface utilisateur\n",
    "import os\n",
    "from ipywidgets import Text\n",
    "from IPython.display import display"
   ]
  },
  {
   "cell_type": "markdown",
   "id": "58fbed86",
   "metadata": {},
   "source": [
    "## Paramétrage simulation EPANET"
   ]
  },
  {
   "cell_type": "markdown",
   "id": "085a90cd",
   "metadata": {},
   "source": [
    "### Sélection modèle"
   ]
  },
  {
   "cell_type": "code",
   "execution_count": 3,
   "id": "c3874442",
   "metadata": {},
   "outputs": [
    {
     "data": {
      "application/vnd.jupyter.widget-view+json": {
       "model_id": "0b5f14da4282471d87c66105f1f32a0b",
       "version_major": 2,
       "version_minor": 0
      },
      "text/plain": [
       "Text(value='modele.inp', continuous_update=False, description='Fichier .inp :', placeholder='Entrer le chemin …"
      ]
     },
     "metadata": {},
     "output_type": "display_data"
    }
   ],
   "source": [
    "# Widget de saisie\n",
    "text_chooser = Text(\n",
    "    value='modele.inp',\n",
    "    placeholder='Entrer le chemin complet du fichier .inp',\n",
    "    description='Fichier .inp :',\n",
    "    disabled=False,\n",
    "    continuous_update=False\n",
    ")\n",
    "\n",
    "# Affichage du widget\n",
    "display(text_chooser)"
   ]
  },
  {
   "cell_type": "markdown",
   "id": "fd51764f",
   "metadata": {},
   "source": [
    "### Paramètres de la simulation"
   ]
  },
  {
   "cell_type": "code",
   "execution_count": 4,
   "id": "0dbc5256",
   "metadata": {},
   "outputs": [
    {
     "data": {
      "application/vnd.jupyter.widget-view+json": {
       "model_id": "14fc23a830904f27a6ba6f6509582c42",
       "version_major": 2,
       "version_minor": 0
      },
      "text/plain": [
       "Text(value='24', continuous_update=False, description='Durée (h) :', placeholder='Entrer la durée de simulatio…"
      ]
     },
     "metadata": {},
     "output_type": "display_data"
    }
   ],
   "source": [
    "# Widget de saisie de la durée de simulation\n",
    "text_duration = Text(\n",
    "    value='24',\n",
    "    placeholder='Entrer la durée de simulation',\n",
    "    description='Durée (h) :',\n",
    "    disabled=False,\n",
    "    continuous_update=False\n",
    ")\n",
    "\n",
    "# Affichage du widget\n",
    "display(text_duration)"
   ]
  },
  {
   "cell_type": "markdown",
   "id": "5b087f35",
   "metadata": {},
   "source": [
    "### Vérifications inputs utilisateur"
   ]
  },
  {
   "cell_type": "code",
   "execution_count": 5,
   "id": "16629692",
   "metadata": {},
   "outputs": [
    {
     "name": "stdout",
     "output_type": "stream",
     "text": [
      "Le fichier modele.inp existe.\n",
      "Le fichier modele.inp est un fichier .inp valide.\n",
      "Durée de simulation valide : 24 heures\n"
     ]
    }
   ],
   "source": [
    "# Stockage des inputs dans des variables\n",
    "model_file = text_chooser.value\n",
    "duration = int(text_duration.value)\n",
    "\n",
    "# Créer les fichiers de sortie .rpt et .out\n",
    "rpt_file = model_file.replace('.inp', '.rpt')\n",
    "out_file = model_file.replace('.inp', '.out')\n",
    "\n",
    "# Vérification de l'existence et de la validité du fichier .inp\n",
    "if os.path.isfile(model_file):\n",
    "    print(f\"Le fichier {model_file} existe.\")\n",
    "    # Vérification de l'extension .inp\n",
    "    if model_file.endswith('.inp'):\n",
    "        print(f\"Le fichier {model_file} est un fichier .inp valide.\")\n",
    "    else:\n",
    "        print(f\"Le fichier {model_file} n'est pas un fichier .inp valide.\")\n",
    "else:\n",
    "    print(f\"Le fichier {model_file} n'existe pas.\")\n",
    "\n",
    "# Vérification durée de simulation\n",
    "if duration <= 0:\n",
    "    print(f\"Durée de simulation invalide : {duration} heures\")\n",
    "else:\n",
    "    print(f\"Durée de simulation valide : {duration} heures\")"
   ]
  },
  {
   "cell_type": "markdown",
   "id": "75f52504",
   "metadata": {},
   "source": [
    "## Initialisation du modèle EPANET"
   ]
  },
  {
   "cell_type": "code",
   "execution_count": 6,
   "id": "c53138af",
   "metadata": {},
   "outputs": [
    {
     "name": "stdout",
     "output_type": "stream",
     "text": [
      "Default epanet project created: 0x1987f7a9500\n",
      "Model initialized successfully.\n"
     ]
    }
   ],
   "source": [
    "# Initialisation du modèle EPANET\n",
    "try:\n",
    "    model = ENmodel(model_file, None)\n",
    "    print(\"Model initialized successfully.\")\n",
    "except Exception as e:\n",
    "    print(f\"Error initializing model: {e}\")"
   ]
  },
  {
   "cell_type": "markdown",
   "id": "5e43e461",
   "metadata": {},
   "source": [
    "### Récupération des ID de réservoirs"
   ]
  },
  {
   "cell_type": "code",
   "execution_count": 7,
   "id": "8b49e115",
   "metadata": {},
   "outputs": [
    {
     "name": "stdout",
     "output_type": "stream",
     "text": [
      "Retrieving tank IDs...\n",
      "Tank IDs retrieved successfully.\n",
      "Tank ID: ABBARETZ\n",
      "Tank ID: AVESSAC\n",
      "Tank ID: BACHEBIROCHERE\n",
      "Tank ID: BACHECHALOUSSIERE\n",
      "Tank ID: BACHEGESVRINE\n",
      "Tank ID: BACHEPOINTDUJ\n",
      "Tank ID: BACHEROGERE\n",
      "Tank ID: BARRELECELLIER\n",
      "Tank ID: BASSEGOULAINEDEUX\n",
      "Tank ID: BASSEGOULAINEUN\n",
      "Tank ID: BAZOUINIEREUNETDEUX\n",
      "Tank ID: BEHORAIS\n",
      "Tank ID: BELAIR\n",
      "Tank ID: BERE\n",
      "Tank ID: BIGNON\n",
      "Tank ID: BOISBRULE\n",
      "Tank ID: BRANDIERES\n",
      "Tank ID: BRANDIERESDEUX\n",
      "Tank ID: BREMAUDIERE\n",
      "Tank ID: BRUEREMESANGER\n",
      "Tank ID: BUTAY\n",
      "Tank ID: CASSONROUTEDENORT\n",
      "Tank ID: CATROUSSIERE\n",
      "Tank ID: CECHALOUSSIERE\n",
      "Tank ID: CHEMINPAVE\n",
      "Tank ID: CONTRIEINFERIEUR\n",
      "Tank ID: CORDIONNAIS\n",
      "Tank ID: COURSAY\n",
      "Tank ID: DERVAL\n",
      "Tank ID: DESERT\n",
      "Tank ID: ESPERANCE\n",
      "Tank ID: ETOILEDUMATIN\n",
      "Tank ID: FOLIERE\n",
      "Tank ID: FOLIEREDEUXA&DEUXB\n",
      "Tank ID: GARENNE\n",
      "Tank ID: GOULIERE\n",
      "Tank ID: GRANDEHAIE\n",
      "Tank ID: GRANDEHAIECE\n",
      "Tank ID: GUERANDE\n",
      "Tank ID: GUERLAIS\n",
      "Tank ID: HAIEMERIAIS\n",
      "Tank ID: HARDIERE\n",
      "Tank ID: HARDIERESPHERE\n",
      "Tank ID: HAUTPLESSIS\n",
      "Tank ID: HERBERDIERE\n",
      "Tank ID: ILLAIRE\n",
      "Tank ID: JARRY\n",
      "Tank ID: JUBINERIE\n",
      "Tank ID: KERROUAULT\n",
      "Tank ID: LAHOLTAIS\n",
      "Tank ID: LETERTRE\n",
      "Tank ID: MACHECOULCE\n",
      "Tank ID: MALADRIE\n",
      "Tank ID: MEAN\n",
      "Tank ID: MONTBERT\n",
      "Tank ID: MOULINAHUILE\n",
      "Tank ID: MOULINAHUILEUNETDEUX\n",
      "Tank ID: MOULINBRIGNAN\n",
      "Tank ID: MOULINDUPE\n",
      "Tank ID: PAQUELAIS\n",
      "Tank ID: PATIS\n",
      "Tank ID: PEGERSA&B\n",
      "Tank ID: PETITSMOULINS\n",
      "Tank ID: PIERRESBLANCHESCE\n",
      "Tank ID: PIERRESBLANCHESUNETDEUX\n",
      "Tank ID: PILARDIERE\n",
      "Tank ID: PLAUDIERE\n",
      "Tank ID: PLESSIS\n",
      "Tank ID: PLESSISPASBRUNET\n",
      "Tank ID: PTDUJ\n",
      "Tank ID: RENAUDIERE\n",
      "Tank ID: RESERVOIRNORD\n",
      "Tank ID: RIDELAIS\n",
      "Tank ID: ROCHEBLANCHE\n",
      "Tank ID: Rogere\n",
      "Tank ID: ROULIERE\n",
      "Tank ID: ROUTEDUGAVREBLAIN\n",
      "Tank ID: RUEBRETAGNESAINTSULPICE\n",
      "Tank ID: SAINTEANNEDEVIGNEUXUN\n",
      "Tank ID: SAINTEANNEVIGNEUX\n",
      "Tank ID: SAINTEANNEVIGNEUXDEUX\n",
      "Tank ID: SAINTMICHEL\n",
      "Tank ID: SAINTNICOLASHAUTSERVICE\n",
      "Tank ID: SAINTSERVAISRUNA&RUNC&RUNB\n",
      "Tank ID: SANDUNUNETDEUX\n",
      "Tank ID: STNICOLASBS\n",
      "Tank ID: TRESCA\n",
      "Tank ID: TRESCALAN\n",
      "Tank ID: USINEBOCQUEHAND\n",
      "Tank ID: USINEDELAGE\n",
      "Tank ID: USINELESPERRIERES\n",
      "Tank ID: USINEROCHE\n",
      "Tank ID: VERRERIES\n",
      "Tank ID: VRIERE\n",
      "Tank ID: ZICARQUEFOU\n",
      "Tank ID: BREUIL\n"
     ]
    }
   ],
   "source": [
    "# Récupération de la liste des tanks\n",
    "try:\n",
    "    print(\"Retrieving tank IDs...\")\n",
    "    model.update_indexes()  # Update tank and pipe indices\n",
    "    tank_ids = [et.ENgetnodeid(ix) for ix in model.tank_index]  # Get tank IDs\n",
    "    print(\"Tank IDs retrieved successfully.\")\n",
    "    \n",
    "    # Display tank IDs\n",
    "    for tank_id in tank_ids:\n",
    "        print(f\"Tank ID: {tank_id}\")\n",
    "        \n",
    "except Exception as e:\n",
    "    print(f\"Error during tank ID retrieval: {e}\")"
   ]
  },
  {
   "cell_type": "markdown",
   "id": "dcdb9af8",
   "metadata": {},
   "source": [
    "## Lancement de la simulation"
   ]
  },
  {
   "cell_type": "code",
   "execution_count": 8,
   "id": "02638289",
   "metadata": {},
   "outputs": [
    {
     "name": "stdout",
     "output_type": "stream",
     "text": [
      "Extracting tank pressures...\n",
      "Model has 1319 links and 1201 nodes.\n",
      "Running simulation over 360000 s and collecting results\n",
      " links=0 nodes=96 tanks=96\n",
      "\t  0% - t= 0\n",
      "\t 10% - t= 36000\n"
     ]
    },
    {
     "name": "stderr",
     "output_type": "stream",
     "text": [
      "C:\\Users\\URC945\\AppData\\Roaming\\Python\\Python312\\site-packages\\ganessa\\en2emu.py:630: Warning: WARNING\n",
      "  t = self.ENerr(et.ENrunH(), info=\"tprev=\" + hhmmss(tstep))\n"
     ]
    },
    {
     "name": "stdout",
     "output_type": "stream",
     "text": [
      "\t 20% - t= 72000\n",
      "\t 30% - t= 108000\n",
      "\t 40% - t= 144000\n",
      "\t 50% - t= 180000\n",
      "\t 60% - t= 216000\n",
      "\t 70% - t= 252000\n",
      "\t 80% - t= 288000\n",
      "\t 90% - t= 324000\n",
      "\t100% - t= 360000\n",
      "Tank pressure extraction complete.\n"
     ]
    }
   ],
   "source": [
    "# Extraction des pressions\n",
    "print(\"Extracting tank pressures...\")\n",
    "try:\n",
    "    _, _, pressures, _ = model.runH_results_part([], tank_ids, tank_ids)\n",
    "    tanks = {tank_id: pressures[tank_id] for tank_id in tank_ids}\n",
    "    print(\"Tank pressure extraction complete.\")\n",
    "except Exception as e:\n",
    "    print(f\"Error during pressure extraction: {e}\")"
   ]
  },
  {
   "cell_type": "markdown",
   "id": "5060b201",
   "metadata": {},
   "source": [
    "## Calculs des marnages des réservoirs sur 24h"
   ]
  },
  {
   "cell_type": "code",
   "execution_count": 9,
   "id": "e9e03d2a",
   "metadata": {},
   "outputs": [],
   "source": [
    "# Calcul des marnages\n",
    "stats = {}\n",
    "for tank_id, pressures in tanks.items():\n",
    "    if pressures:\n",
    "        stats[tank_id] = {\n",
    "            \"max_pressure\": max(pressures),\n",
    "            \"min_pressure\": min(pressures),\n",
    "        }\n",
    "    else:\n",
    "        stats[tank_id] = {\n",
    "            \"max_pressure\": None,\n",
    "            \"min_pressure\": None,\n",
    "        }"
   ]
  },
  {
   "cell_type": "markdown",
   "id": "2167ed50",
   "metadata": {},
   "source": [
    "# Affichage des stats finales"
   ]
  },
  {
   "cell_type": "code",
   "execution_count": 10,
   "id": "21ba3642",
   "metadata": {},
   "outputs": [
    {
     "name": "stdout",
     "output_type": "stream",
     "text": [
      "\n",
      "=== Tank Pressure Statistics ===\n",
      "Tank ABBARETZ: Max = 5.962420664756762, Min = 3.870002974194155\n",
      "Tank AVESSAC: Max = 8.699999999999998, Min = 2.999999999999994\n",
      "Tank BACHEBIROCHERE: Max = 4.947451085767621, Min = 2.876579436929387\n",
      "Tank BACHECHALOUSSIERE: Max = 5.100000000000001, Min = 2.9940584908617542\n",
      "Tank BACHEGESVRINE: Max = 4.999999999999998, Min = 2.8706686017187057\n",
      "Tank BACHEPOINTDUJ: Max = 4.904376165938177, Min = 2.9999999999999982\n",
      "Tank BACHEROGERE: Max = 13.000000000000004, Min = 10.815923255258353\n",
      "Tank BARRELECELLIER: Max = 3.9999999999999916, Min = 1.6544001663195946\n",
      "Tank BASSEGOULAINEDEUX: Max = 4.902844081421119, Min = 0.07674872653897782\n",
      "Tank BASSEGOULAINEUN: Max = 3.841397026008484, Min = 1.9999999999999996\n",
      "Tank BAZOUINIEREUNETDEUX: Max = 5.900000000000001, Min = 4.8151333388181214\n",
      "Tank BEHORAIS: Max = 11.93682200587594, Min = 8.5898064698809\n",
      "Tank BELAIR: Max = 10.322244882341357, Min = 2.835969180940601\n",
      "Tank BERE: Max = 5.000000000000007, Min = 2.999999999999994\n",
      "Tank BIGNON: Max = 10.922088186953786, Min = 6.485138838380394\n",
      "Tank BOISBRULE: Max = 4.999999999999998, Min = 2.830840377397365\n",
      "Tank BRANDIERES: Max = 10.000000000000005, Min = 6.990718796559366\n",
      "Tank BRANDIERESDEUX: Max = 5.232232393137255, Min = 3.18168955099169\n",
      "Tank BREMAUDIERE: Max = 9.12093883638207, Min = 6.9898327847827115\n",
      "Tank BRUEREMESANGER: Max = 9.520198378438009, Min = 6.000000000000004\n",
      "Tank BUTAY: Max = 4.833584691045955, Min = 3.4937044442571965\n",
      "Tank CASSONROUTEDENORT: Max = 7.205795870544416, Min = 3.179338391898404\n",
      "Tank CATROUSSIERE: Max = 6.1793824503932795, Min = 3.9943790504365673\n",
      "Tank CECHALOUSSIERE: Max = 6.1, Min = 3.981438030801762\n",
      "Tank CHEMINPAVE: Max = 4.999999999999998, Min = 2.8881060480090825\n",
      "Tank CONTRIEINFERIEUR: Max = 10.627718058395878, Min = 8.57063077491157\n",
      "Tank CORDIONNAIS: Max = 10.5, Min = 6.999999999999998\n",
      "Tank COURSAY: Max = 4.941681573301671, Min = 2.8934565739376388\n",
      "Tank DERVAL: Max = 6.030927914253791, Min = 3.963005118227276\n",
      "Tank DESERT: Max = 4.999999999999998, Min = 3.8062436749463955\n",
      "Tank ESPERANCE: Max = 5.000000000000007, Min = 2.8939876281295294\n",
      "Tank ETOILEDUMATIN: Max = 8.0, Min = 7.999981453511252\n",
      "Tank FOLIERE: Max = 5.615724670911316, Min = 3.5559806293142207\n",
      "Tank FOLIEREDEUXA&DEUXB: Max = 5.069999999999999, Min = 1.2310478958197657\n",
      "Tank GARENNE: Max = 9.999999999999996, Min = 4.086258593180439\n",
      "Tank GOULIERE: Max = 9.999452868047886, Min = 7.936192400636052\n",
      "Tank GRANDEHAIE: Max = 4.348400102611345, Min = 2.288993580267877\n",
      "Tank GRANDEHAIECE: Max = 8.16192534659997, Min = 3.996155612818093\n",
      "Tank GUERANDE: Max = 5.36460029894759, Min = 1.9979265191914581\n",
      "Tank GUERLAIS: Max = 9.299999999999999, Min = 1.9064115235375485\n",
      "Tank HAIEMERIAIS: Max = 6.074708985070649, Min = 3.892944904109963\n",
      "Tank HARDIERE: Max = 8.099999999999996, Min = 5.947513113601484\n",
      "Tank HARDIERESPHERE: Max = 30.999999999999986, Min = 16.378802845529396\n",
      "Tank HAUTPLESSIS: Max = 10.999999999999995, Min = 7.430963637850541\n",
      "Tank HERBERDIERE: Max = 4.0, Min = 3.000000000000002\n",
      "Tank ILLAIRE: Max = 4.0, Min = 0.8015585614257905\n",
      "Tank JARRY: Max = 5.043536933511554, Min = 2.9630325067265826\n",
      "Tank JUBINERIE: Max = 4.472083999104276, Min = 0.7551157164180208\n",
      "Tank KERROUAULT: Max = 14.170363424876124, Min = 4.87266412286316\n",
      "Tank LAHOLTAIS: Max = 6.699089498380423, Min = 3.9999999999999916\n",
      "Tank LETERTRE: Max = 5.93538226710404, Min = 3.21399419669801\n",
      "Tank MACHECOULCE: Max = 10.000000000000005, Min = 8.43649120647428\n",
      "Tank MALADRIE: Max = 3.9999999999999916, Min = 1.8515229120472527\n",
      "Tank MEAN: Max = 8.405912525217538, Min = 6.000000000000001\n",
      "Tank MONTBERT: Max = 7.000000000000003, Min = 5.896802540267793\n",
      "Tank MOULINAHUILE: Max = 4.999999999999998, Min = 1.8868504933726553\n",
      "Tank MOULINAHUILEUNETDEUX: Max = 4.817671406211431, Min = 2.787214024347384\n",
      "Tank MOULINBRIGNAN: Max = 15.817776714036556, Min = 12.856879680934718\n",
      "Tank MOULINDUPE: Max = 5.922288914331926, Min = 3.891541300388382\n",
      "Tank PAQUELAIS: Max = 6.000000000000004, Min = 4.499999999999999\n",
      "Tank PATIS: Max = 5.000000000000007, Min = 2.8565815430420294\n",
      "Tank PEGERSA&B: Max = 12.047625191539531, Min = 6.499155188821428\n",
      "Tank PETITSMOULINS: Max = 10.044659622534528, Min = 6.998687376785494\n",
      "Tank PIERRESBLANCHESCE: Max = 12.000000000000009, Min = 8.285291980784779\n",
      "Tank PIERRESBLANCHESUNETDEUX: Max = 5.9999999999999964, Min = 4.0\n",
      "Tank PILARDIERE: Max = 7.23195209297132, Min = 5.064411283629351\n",
      "Tank PLAUDIERE: Max = 2.8314981248224402, Min = 0.8845529442324243\n",
      "Tank PLESSIS: Max = 15.000000000000004, Min = 12.8252940392612\n",
      "Tank PLESSISPASBRUNET: Max = 4.455854833400391, Min = 2.385477862884352\n",
      "Tank PTDUJ: Max = 4.001431984269032, Min = 2.8747951675033168\n",
      "Tank RENAUDIERE: Max = 7.312332119974973, Min = 2.4993632953923766\n",
      "Tank RESERVOIRNORD: Max = 8.905559606595606, Min = 6.999999999999994\n",
      "Tank RIDELAIS: Max = 7.100000000000006, Min = 4.8705178515425365\n",
      "Tank ROCHEBLANCHE: Max = 7.001736434226554, Min = 4.996097370533506\n",
      "Tank Rogere: Max = 8.0, Min = 5.869409655517361\n",
      "Tank ROULIERE: Max = 10.999999999999995, Min = 6.878793220184631\n",
      "Tank ROUTEDUGAVREBLAIN: Max = 8.00917628192884, Min = 4.992959027684294\n",
      "Tank RUEBRETAGNESAINTSULPICE: Max = 5.199999999999996, Min = 4.499999999999999\n",
      "Tank SAINTEANNEDEVIGNEUXUN: Max = 5.500000000000006, Min = 2.0000000000000044\n",
      "Tank SAINTEANNEVIGNEUX: Max = 10.950000000000006, Min = 3.996678828577909\n",
      "Tank SAINTEANNEVIGNEUXDEUX: Max = 5.500000000000006, Min = 1.0000000000000067\n",
      "Tank SAINTMICHEL: Max = 5.000000000000007, Min = 2.836174625304084\n",
      "Tank SAINTNICOLASHAUTSERVICE: Max = 6.001927086012106, Min = 3.99696207067231\n",
      "Tank SAINTSERVAISRUNA&RUNC&RUNB: Max = 6.000000000000004, Min = 2.195984780125621\n",
      "Tank SANDUNUNETDEUX: Max = 3.0000000000000004, Min = 1.0\n",
      "Tank STNICOLASBS: Max = 3.050121062658874, Min = 1.9438351107956549\n",
      "Tank TRESCA: Max = 13.978191080140101, Min = 11.845494701223336\n",
      "Tank TRESCALAN: Max = 4.322181609572585, Min = 2.279380733040313\n",
      "Tank USINEBOCQUEHAND: Max = 4.0, Min = 0.9951720027847815\n",
      "Tank USINEDELAGE: Max = 3.9295993783504115, Min = 1.0\n",
      "Tank USINELESPERRIERES: Max = 5.466968795614314, Min = 1.9254736499202008\n",
      "Tank USINEROCHE: Max = 4.999999999999998, Min = 1.6965335397505006\n",
      "Tank VERRERIES: Max = 3.0238763235405464, Min = -0.0001940057968456813\n",
      "Tank VRIERE: Max = 11.000000000000004, Min = 8.882714218061\n",
      "Tank ZICARQUEFOU: Max = 9.958775788403083, Min = 7.7967837776688524\n",
      "Tank BREUIL: Max = 5.099999999999997, Min = 5.000000000000003\n",
      "\n",
      "Analysis saved to analysis.txt\n",
      "Default project 0x1987f7a9500 is being deleted\n"
     ]
    }
   ],
   "source": [
    "print(\"\\n=== Tank Pressure Statistics ===\")\n",
    "\n",
    "# Affichage des statistiques\n",
    "analysis_file_path = os.path.join(os.path.dirname(model_file), \"analysis.txt\")\n",
    "with open(analysis_file_path, \"w\") as analysis_file:\n",
    "    for tank_id, stat in stats.items():\n",
    "        line = f\"Tank {tank_id}: Max = {stat['max_pressure']}, Min = {stat['min_pressure']}\\n\"\n",
    "        print(line.strip())\n",
    "        analysis_file.write(line)\n",
    "\n",
    "print(f\"\\nAnalysis saved to {analysis_file_path}\")\n",
    "\n",
    "# Fermeture du modèle\n",
    "if 'model' in locals() and model:\n",
    "    model.close()"
   ]
  }
 ],
 "metadata": {
  "kernelspec": {
   "display_name": "Python 3",
   "language": "python",
   "name": "python3"
  },
  "language_info": {
   "codemirror_mode": {
    "name": "ipython",
    "version": 3
   },
   "file_extension": ".py",
   "mimetype": "text/x-python",
   "name": "python",
   "nbconvert_exporter": "python",
   "pygments_lexer": "ipython3",
   "version": "3.12.7"
  }
 },
 "nbformat": 4,
 "nbformat_minor": 5
}
